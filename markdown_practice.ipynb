{
 "cells": [
  {
   "cell_type": "markdown",
   "id": "38ef3c2d-3162-4585-831c-2be0d122ccfb",
   "metadata": {
    "tags": []
   },
   "source": [
    "# Markdown Practice in Jupyter"
   ]
  },
  {
   "cell_type": "markdown",
   "id": "6512c2b4-4f42-412e-bb05-507c1b2cff86",
   "metadata": {
    "jp-MarkdownHeadingCollapsed": true,
    "tags": []
   },
   "source": [
    "## Subheading 1 Practice\n",
    "### Some additional details for subheading 1"
   ]
  },
  {
   "cell_type": "markdown",
   "id": "3897712c-98d5-4fdc-877c-e3c71a92b389",
   "metadata": {
    "tags": []
   },
   "source": [
    "## Subheading 2 Practice\n",
    "### Some additional details for subheading 2"
   ]
  },
  {
   "cell_type": "markdown",
   "id": "7bc8b59c-c662-406d-8b39-e62bd691ccdb",
   "metadata": {
    "tags": []
   },
   "source": [
    "## Subheading 3 Practice"
   ]
  },
  {
   "cell_type": "markdown",
   "id": "6206bbc1-5596-47db-93ca-7901f71e63b6",
   "metadata": {},
   "source": [
    "# List Practice (unordered)\n",
    "\n",
    "* Item A\n",
    "* Item B\n",
    "  * Subitem B.1\n",
    "  * Subitem B.2\n",
    "    * Subitem B.2.1\n",
    "* Item C\n"
   ]
  },
  {
   "cell_type": "markdown",
   "id": "3986035f-5501-4a5e-9343-24bc10bf1589",
   "metadata": {},
   "source": [
    "# List Practice (ordered)\n",
    "1. Item A\n",
    "2. Item B\n",
    "   1. Subitem B.1\n",
    "   2. Subitem B.2\n",
    "      1. Subitem B.2.1\n",
    "3. Item C"
   ]
  },
  {
   "cell_type": "markdown",
   "id": "c224aa4f-d2e2-4c21-ac36-911a142290fd",
   "metadata": {},
   "source": [
    "# Link Practice\n",
    "[Official Markdown Guide](https://daringfireball.net/projects/markdown/)"
   ]
  },
  {
   "cell_type": "markdown",
   "id": "3f5f6448-5bb4-4a94-b284-f2bffaf9f0c0",
   "metadata": {},
   "source": [
    "# Embed an Image Practice\n",
    "![Nissan Ariya](https://www.nissanusa.com/content/dam/Nissan/us/vehicles/ariya/vehicle-profile-assets/2023/2023-nissan-ariya-platinum-plus-e-4orce-awd-two-tone-sunrise-copper-pearl-black-diamond-metallic.png.ximg.l_3_m.smart.png)\n"
   ]
  },
  {
   "cell_type": "markdown",
   "id": "3e0e81f8-dcf4-4b54-b15b-d1c70b78a774",
   "metadata": {},
   "source": [
    "# **Bold Text Example**"
   ]
  },
  {
   "cell_type": "markdown",
   "id": "f5dd7085-acd8-470c-b83f-896e40814d12",
   "metadata": {},
   "source": [
    "# _Italic Text Example_"
   ]
  }
 ],
 "metadata": {
  "kernelspec": {
   "display_name": "anaconda-panel-2023.05-py310",
   "language": "python",
   "name": "conda-env-anaconda-panel-2023.05-py310-py"
  },
  "language_info": {
   "codemirror_mode": {
    "name": "ipython",
    "version": 3
   },
   "file_extension": ".py",
   "mimetype": "text/x-python",
   "name": "python",
   "nbconvert_exporter": "python",
   "pygments_lexer": "ipython3",
   "version": "3.11.5"
  },
  "toc-autonumbering": false,
  "toc-showcode": false,
  "toc-showmarkdowntxt": true,
  "toc-showtags": false
 },
 "nbformat": 4,
 "nbformat_minor": 5
}
